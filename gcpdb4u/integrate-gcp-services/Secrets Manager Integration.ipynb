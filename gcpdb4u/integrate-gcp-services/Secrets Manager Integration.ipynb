{
 "cells": [
  {
   "cell_type": "markdown",
   "metadata": {
    "application/vnd.databricks.v1+cell": {
     "cellMetadata": {},
     "inputWidgets": {},
     "nuid": "c97c9a55-7f47-4c45-8fea-97f6e7abc862",
     "showTitle": false,
     "title": ""
    }
   },
   "source": [
    "\n",
    "- make sure that the GSA is attached to your cluster `fe-prod-general-sa@fe-prod-dbx.iam.gserviceaccount.com`\n",
    "- GSA has `Secrets Manager Admin` role assigned\n",
    "- follow GCP [docs](https://cloud.google.com/secret-manager/docs/overview)"
   ]
  },
  {
   "cell_type": "code",
   "execution_count": 0,
   "metadata": {
    "application/vnd.databricks.v1+cell": {
     "cellMetadata": {
      "byteLimit": 2048000,
      "rowLimit": 10000
     },
     "inputWidgets": {},
     "nuid": "f69d1deb-1607-4b5d-ac40-3af9c37de60b",
     "showTitle": true,
     "title": "Install required Google Secrets Library"
    }
   },
   "outputs": [
    {
     "output_type": "stream",
     "name": "stdout",
     "output_type": "stream",
     "text": [
      "\u001B[43mNote: you may need to restart the kernel using dbutils.library.restartPython() to use updated packages.\u001B[0m\nCollecting google-cloud-secret-manager\n  Using cached google_cloud_secret_manager-2.19.0-py2.py3-none-any.whl (178 kB)\nRequirement already satisfied: proto-plus<2.0.0dev,>=1.22.3 in /local_disk0/.ephemeral_nfs/cluster_libraries/python/lib/python3.10/site-packages (from google-cloud-secret-manager) (1.23.0)\nRequirement already satisfied: google-api-core[grpc]!=2.0.*,!=2.1.*,!=2.10.*,!=2.2.*,!=2.3.*,!=2.4.*,!=2.5.*,!=2.6.*,!=2.7.*,!=2.8.*,!=2.9.*,<3.0.0dev,>=1.34.1 in /local_disk0/.ephemeral_nfs/cluster_libraries/python/lib/python3.10/site-packages (from google-cloud-secret-manager) (2.18.0)\nRequirement already satisfied: google-auth!=2.24.0,!=2.25.0,<3.0.0dev,>=2.14.1 in /local_disk0/.ephemeral_nfs/cluster_libraries/python/lib/python3.10/site-packages (from google-cloud-secret-manager) (2.29.0)\nRequirement already satisfied: protobuf!=3.20.0,!=3.20.1,!=4.21.0,!=4.21.1,!=4.21.2,!=4.21.3,!=4.21.4,!=4.21.5,<5.0.0dev,>=3.19.5 in /databricks/python3/lib/python3.10/site-packages (from google-cloud-secret-manager) (4.24.0)\nCollecting grpc-google-iam-v1<1.0.0dev,>=0.12.4\n  Using cached grpc_google_iam_v1-0.13.0-py2.py3-none-any.whl (25 kB)\nRequirement already satisfied: googleapis-common-protos<2.0.dev0,>=1.56.2 in /databricks/python3/lib/python3.10/site-packages (from google-api-core[grpc]!=2.0.*,!=2.1.*,!=2.10.*,!=2.2.*,!=2.3.*,!=2.4.*,!=2.5.*,!=2.6.*,!=2.7.*,!=2.8.*,!=2.9.*,<3.0.0dev,>=1.34.1->google-cloud-secret-manager) (1.62.0)\nRequirement already satisfied: requests<3.0.0.dev0,>=2.18.0 in /databricks/python3/lib/python3.10/site-packages (from google-api-core[grpc]!=2.0.*,!=2.1.*,!=2.10.*,!=2.2.*,!=2.3.*,!=2.4.*,!=2.5.*,!=2.6.*,!=2.7.*,!=2.8.*,!=2.9.*,<3.0.0dev,>=1.34.1->google-cloud-secret-manager) (2.28.1)\nRequirement already satisfied: grpcio-status<2.0.dev0,>=1.33.2 in /databricks/python3/lib/python3.10/site-packages (from google-api-core[grpc]!=2.0.*,!=2.1.*,!=2.10.*,!=2.2.*,!=2.3.*,!=2.4.*,!=2.5.*,!=2.6.*,!=2.7.*,!=2.8.*,!=2.9.*,<3.0.0dev,>=1.34.1->google-cloud-secret-manager) (1.48.1)\nRequirement already satisfied: grpcio<2.0dev,>=1.33.2 in /databricks/python3/lib/python3.10/site-packages (from google-api-core[grpc]!=2.0.*,!=2.1.*,!=2.10.*,!=2.2.*,!=2.3.*,!=2.4.*,!=2.5.*,!=2.6.*,!=2.7.*,!=2.8.*,!=2.9.*,<3.0.0dev,>=1.34.1->google-cloud-secret-manager) (1.48.2)\nRequirement already satisfied: rsa<5,>=3.1.4 in /local_disk0/.ephemeral_nfs/cluster_libraries/python/lib/python3.10/site-packages (from google-auth!=2.24.0,!=2.25.0,<3.0.0dev,>=2.14.1->google-cloud-secret-manager) (4.9)\nRequirement already satisfied: cachetools<6.0,>=2.0.0 in /local_disk0/.ephemeral_nfs/cluster_libraries/python/lib/python3.10/site-packages (from google-auth!=2.24.0,!=2.25.0,<3.0.0dev,>=2.14.1->google-cloud-secret-manager) (5.3.3)\nRequirement already satisfied: pyasn1-modules>=0.2.1 in /local_disk0/.ephemeral_nfs/cluster_libraries/python/lib/python3.10/site-packages (from google-auth!=2.24.0,!=2.25.0,<3.0.0dev,>=2.14.1->google-cloud-secret-manager) (0.4.0)\nRequirement already satisfied: six>=1.5.2 in /usr/lib/python3/dist-packages (from grpcio<2.0dev,>=1.33.2->google-api-core[grpc]!=2.0.*,!=2.1.*,!=2.10.*,!=2.2.*,!=2.3.*,!=2.4.*,!=2.5.*,!=2.6.*,!=2.7.*,!=2.8.*,!=2.9.*,<3.0.0dev,>=1.34.1->google-cloud-secret-manager) (1.16.0)\nRequirement already satisfied: pyasn1<0.7.0,>=0.4.6 in /local_disk0/.ephemeral_nfs/cluster_libraries/python/lib/python3.10/site-packages (from pyasn1-modules>=0.2.1->google-auth!=2.24.0,!=2.25.0,<3.0.0dev,>=2.14.1->google-cloud-secret-manager) (0.6.0)\nRequirement already satisfied: urllib3<1.27,>=1.21.1 in /databricks/python3/lib/python3.10/site-packages (from requests<3.0.0.dev0,>=2.18.0->google-api-core[grpc]!=2.0.*,!=2.1.*,!=2.10.*,!=2.2.*,!=2.3.*,!=2.4.*,!=2.5.*,!=2.6.*,!=2.7.*,!=2.8.*,!=2.9.*,<3.0.0dev,>=1.34.1->google-cloud-secret-manager) (1.26.14)\nRequirement already satisfied: idna<4,>=2.5 in /databricks/python3/lib/python3.10/site-packages (from requests<3.0.0.dev0,>=2.18.0->google-api-core[grpc]!=2.0.*,!=2.1.*,!=2.10.*,!=2.2.*,!=2.3.*,!=2.4.*,!=2.5.*,!=2.6.*,!=2.7.*,!=2.8.*,!=2.9.*,<3.0.0dev,>=1.34.1->google-cloud-secret-manager) (3.4)\nRequirement already satisfied: charset-normalizer<3,>=2 in /databricks/python3/lib/python3.10/site-packages (from requests<3.0.0.dev0,>=2.18.0->google-api-core[grpc]!=2.0.*,!=2.1.*,!=2.10.*,!=2.2.*,!=2.3.*,!=2.4.*,!=2.5.*,!=2.6.*,!=2.7.*,!=2.8.*,!=2.9.*,<3.0.0dev,>=1.34.1->google-cloud-secret-manager) (2.0.4)\nRequirement already satisfied: certifi>=2017.4.17 in /databricks/python3/lib/python3.10/site-packages (from requests<3.0.0.dev0,>=2.18.0->google-api-core[grpc]!=2.0.*,!=2.1.*,!=2.10.*,!=2.2.*,!=2.3.*,!=2.4.*,!=2.5.*,!=2.6.*,!=2.7.*,!=2.8.*,!=2.9.*,<3.0.0dev,>=1.34.1->google-cloud-secret-manager) (2022.12.7)\nInstalling collected packages: grpc-google-iam-v1, google-cloud-secret-manager\nSuccessfully installed google-cloud-secret-manager-2.19.0 grpc-google-iam-v1-0.13.0\n\u001B[43mNote: you may need to restart the kernel using dbutils.library.restartPython() to use updated packages.\u001B[0m\n"
     ]
    }
   ],
   "source": [
    "%pip install google-cloud-secret-manager\n",
    "dbutils.library.restartPython()"
   ]
  },
  {
   "cell_type": "code",
   "execution_count": 0,
   "metadata": {
    "application/vnd.databricks.v1+cell": {
     "cellMetadata": {
      "byteLimit": 2048000,
      "rowLimit": 10000
     },
     "inputWidgets": {},
     "nuid": "85b72980-d569-4bf1-8b08-e1e5913404ac",
     "showTitle": true,
     "title": "List Secrets"
    }
   },
   "outputs": [],
   "source": [
    "def list_secrets(project_id: str) -> None:\n",
    "    \"\"\"\n",
    "    List all secrets in the given project.\n",
    "    \"\"\"\n",
    "    # Import the Secret Manager client library.\n",
    "    from google.cloud import secretmanager\n",
    "    # Create the Secret Manager client.\n",
    "    client = secretmanager.SecretManagerServiceClient()\n",
    "    # Build the resource name of the parent project.\n",
    "    parent = f\"projects/{project_id}\"\n",
    "    # List all secrets.\n",
    "    for secret in client.list_secrets(request={\"parent\": parent}):\n",
    "        print(f\"Found secret: {secret.name}\")"
   ]
  },
  {
   "cell_type": "code",
   "execution_count": 0,
   "metadata": {
    "application/vnd.databricks.v1+cell": {
     "cellMetadata": {
      "byteLimit": 2048000,
      "rowLimit": 10000
     },
     "inputWidgets": {},
     "nuid": "eb0dced2-6578-4aff-aa4e-7534a6ddbeb1",
     "showTitle": false,
     "title": ""
    }
   },
   "outputs": [
    {
     "output_type": "stream",
     "name": "stdout",
     "output_type": "stream",
     "text": [
      "Found secret: projects/567024742550/secrets/bk-secret1\n"
     ]
    }
   ],
   "source": [
    "list_secrets(\"fe-prod-dbx\")"
   ]
  },
  {
   "cell_type": "code",
   "execution_count": 0,
   "metadata": {
    "application/vnd.databricks.v1+cell": {
     "cellMetadata": {
      "byteLimit": 2048000,
      "rowLimit": 10000
     },
     "inputWidgets": {},
     "nuid": "b4c48715-b8d2-43fb-9bc5-4a55526ea2e8",
     "showTitle": true,
     "title": "Get Secret"
    }
   },
   "outputs": [],
   "source": [
    "from google.cloud import secretmanager\n",
    "\n",
    "def get_secret(project_id: str, secret_id: str) -> secretmanager.GetSecretRequest:\n",
    "    \"\"\"\n",
    "    Get information about the given secret. This only returns metadata about\n",
    "    the secret container, not any secret material.\n",
    "    \"\"\"\n",
    "\n",
    "    # Import the Secret Manager client library.\n",
    "    from google.cloud import secretmanager\n",
    "\n",
    "    # Create the Secret Manager client.\n",
    "    client = secretmanager.SecretManagerServiceClient()\n",
    "\n",
    "    # Build the resource name of the secret.\n",
    "    name = client.secret_path(project_id, secret_id)\n",
    "\n",
    "    # Get the secret.\n",
    "    response = client.get_secret(request={\"name\": name})\n",
    "\n",
    "    # Get the replication policy.\n",
    "    if \"automatic\" in response.replication:\n",
    "        replication = \"AUTOMATIC\"\n",
    "    elif \"user_managed\" in response.replication:\n",
    "        replication = \"MANAGED\"\n",
    "    else:\n",
    "        raise Exception(f\"Unknown replication {response.replication}\")\n",
    "\n",
    "    # Print data about the secret.\n",
    "    print(f\"Got secret {response.name} with replication policy {replication}\")"
   ]
  },
  {
   "cell_type": "code",
   "execution_count": 0,
   "metadata": {
    "application/vnd.databricks.v1+cell": {
     "cellMetadata": {
      "byteLimit": 2048000,
      "rowLimit": 10000
     },
     "inputWidgets": {},
     "nuid": "effaac13-e3e9-447f-8344-b9f40ba3b8ce",
     "showTitle": true,
     "title": "End to End Example"
    }
   },
   "outputs": [
    {
     "output_type": "stream",
     "name": "stdout",
     "output_type": "stream",
     "text": [
      "Plaintext: hello world!\n"
     ]
    }
   ],
   "source": [
    "# Import the Secret Manager client library.\n",
    "from google.cloud import secretmanager\n",
    "\n",
    "# GCP project in which to store secrets in Secret Manager.\n",
    "project_id = \"fe-prod-dbx\"\n",
    "# ID of the secret to create.\n",
    "secret_id = \"fe-prod-demo-secret1\"\n",
    "# Create the Secret Manager client.\n",
    "client = secretmanager.SecretManagerServiceClient()\n",
    "# Build the parent name from the project.\n",
    "parent = f\"projects/{project_id}\"\n",
    "# Create the parent secret.\n",
    "secret = client.create_secret(\n",
    "    request={\n",
    "        \"parent\": parent,\n",
    "        \"secret_id\": secret_id,\n",
    "        \"secret\": {\"replication\": {\"automatic\": {}}},\n",
    "    }\n",
    ")\n",
    "# Add the secret version.\n",
    "version = client.add_secret_version(\n",
    "    request={\"parent\": secret.name, \"payload\": {\"data\": b\"hello world!\"}}\n",
    ")\n",
    "# Access the secret version.\n",
    "response = client.access_secret_version(request={\"name\": version.name})\n",
    "# Print the secret payload.\n",
    "#\n",
    "# WARNING: Do not print the secret in a production environment - this\n",
    "# snippet is showing how to access the secret material.\n",
    "payload = response.payload.data.decode(\"UTF-8\")\n",
    "print(f\"Plaintext: {payload}\")\n"
   ]
  },
  {
   "cell_type": "code",
   "execution_count": 0,
   "metadata": {
    "application/vnd.databricks.v1+cell": {
     "cellMetadata": {},
     "inputWidgets": {},
     "nuid": "128beb5f-6aad-47ec-a7e9-d94b9d17904e",
     "showTitle": false,
     "title": ""
    }
   },
   "outputs": [],
   "source": [
    "{secret:\"valu\", expire:\"\"}"
   ]
  }
 ],
 "metadata": {
  "application/vnd.databricks.v1+notebook": {
   "dashboards": [],
   "environmentMetadata": null,
   "language": "python",
   "notebookMetadata": {
    "mostRecentlyExecutedCommandWithImplicitDF": {
     "commandId": 2558824316621441,
     "dataframes": [
      "_sqldf"
     ]
    },
    "pythonIndentUnit": 2
   },
   "notebookName": "Secrets Manager Integration",
   "widgets": {}
  }
 },
 "nbformat": 4,
 "nbformat_minor": 0
}
